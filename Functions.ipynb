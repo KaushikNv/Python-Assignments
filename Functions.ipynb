{
 "cells": [
  {
   "cell_type": "code",
   "execution_count": 1,
   "id": "be826d92",
   "metadata": {},
   "outputs": [],
   "source": [
    "def simple():\n",
    "    print(\"My first function\")"
   ]
  },
  {
   "cell_type": "code",
   "execution_count": 2,
   "id": "6b1b6a28",
   "metadata": {},
   "outputs": [
    {
     "name": "stdout",
     "output_type": "stream",
     "text": [
      "My first function\n"
     ]
    }
   ],
   "source": [
    "simple()"
   ]
  },
  {
   "cell_type": "code",
   "execution_count": 3,
   "id": "595e5ec1",
   "metadata": {},
   "outputs": [],
   "source": [
    "def add(a):\n",
    "    return a+10"
   ]
  },
  {
   "cell_type": "code",
   "execution_count": 4,
   "id": "9ada3906",
   "metadata": {},
   "outputs": [
    {
     "data": {
      "text/plain": [
       "15"
      ]
     },
     "execution_count": 4,
     "metadata": {},
     "output_type": "execute_result"
    }
   ],
   "source": [
    "add(5)"
   ]
  },
  {
   "cell_type": "code",
   "execution_count": 5,
   "id": "b9a0de45",
   "metadata": {},
   "outputs": [
    {
     "data": {
      "text/plain": [
       "18"
      ]
     },
     "execution_count": 5,
     "metadata": {},
     "output_type": "execute_result"
    }
   ],
   "source": [
    "add(8)"
   ]
  },
  {
   "cell_type": "markdown",
   "id": "48e3bf21",
   "metadata": {},
   "source": [
    "## Another way to define a function"
   ]
  },
  {
   "cell_type": "code",
   "execution_count": 6,
   "id": "0bd0f4b1",
   "metadata": {},
   "outputs": [],
   "source": [
    "def plus(a):\n",
    "    result = a+15\n",
    "    return result"
   ]
  },
  {
   "cell_type": "code",
   "execution_count": 7,
   "id": "ebf5036f",
   "metadata": {},
   "outputs": [
    {
     "data": {
      "text/plain": [
       "23"
      ]
     },
     "execution_count": 7,
     "metadata": {},
     "output_type": "execute_result"
    }
   ],
   "source": [
    "plus(8)"
   ]
  },
  {
   "cell_type": "code",
   "execution_count": 9,
   "id": "bc44c64b",
   "metadata": {},
   "outputs": [],
   "source": [
    "def sum(a):\n",
    "    result = a+15\n",
    "    return \"outcome\"\n",
    "    return result"
   ]
  },
  {
   "cell_type": "code",
   "execution_count": 10,
   "id": "0c490783",
   "metadata": {},
   "outputs": [
    {
     "data": {
      "text/plain": [
       "'outcome'"
      ]
     },
     "execution_count": 10,
     "metadata": {},
     "output_type": "execute_result"
    }
   ],
   "source": [
    "sum(12)"
   ]
  },
  {
   "cell_type": "code",
   "execution_count": 11,
   "id": "06b913a0",
   "metadata": {},
   "outputs": [],
   "source": [
    "def sum(a):\n",
    "    result = a+15\n",
    "    print(\"outcome\")\n",
    "    return result"
   ]
  },
  {
   "cell_type": "code",
   "execution_count": 12,
   "id": "a4acc044",
   "metadata": {},
   "outputs": [
    {
     "name": "stdout",
     "output_type": "stream",
     "text": [
      "outcome\n"
     ]
    },
    {
     "data": {
      "text/plain": [
       "27"
      ]
     },
     "execution_count": 12,
     "metadata": {},
     "output_type": "execute_result"
    }
   ],
   "source": [
    "sum(12)"
   ]
  },
  {
   "cell_type": "markdown",
   "id": "011e8d46",
   "metadata": {},
   "source": [
    "## A function in another function"
   ]
  },
  {
   "cell_type": "code",
   "execution_count": 13,
   "id": "331dddc5",
   "metadata": {},
   "outputs": [],
   "source": [
    "def wage(w_hours):\n",
    "    return w_hours*50\n",
    "def bonus(w_hours):\n",
    "    return wage(w_hours) + 50"
   ]
  },
  {
   "cell_type": "code",
   "execution_count": 15,
   "id": "2d60124d",
   "metadata": {},
   "outputs": [
    {
     "data": {
      "text/plain": [
       "(400, 450)"
      ]
     },
     "execution_count": 15,
     "metadata": {},
     "output_type": "execute_result"
    }
   ],
   "source": [
    "wage(8),bonus(8)"
   ]
  },
  {
   "cell_type": "code",
   "execution_count": null,
   "id": "4e2ce4d8",
   "metadata": {},
   "outputs": [],
   "source": []
  }
 ],
 "metadata": {
  "kernelspec": {
   "display_name": "Python 3 (ipykernel)",
   "language": "python",
   "name": "python3"
  },
  "language_info": {
   "codemirror_mode": {
    "name": "ipython",
    "version": 3
   },
   "file_extension": ".py",
   "mimetype": "text/x-python",
   "name": "python",
   "nbconvert_exporter": "python",
   "pygments_lexer": "ipython3",
   "version": "3.9.12"
  }
 },
 "nbformat": 4,
 "nbformat_minor": 5
}
