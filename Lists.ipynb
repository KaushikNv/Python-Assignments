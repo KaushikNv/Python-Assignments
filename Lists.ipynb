{
 "cells": [
  {
   "cell_type": "code",
   "execution_count": 1,
   "id": "fe7a1814",
   "metadata": {},
   "outputs": [],
   "source": [
    "members = ['PC','Swetha','JD','Kashyap']"
   ]
  },
  {
   "cell_type": "code",
   "execution_count": 2,
   "id": "935e7d93",
   "metadata": {},
   "outputs": [
    {
     "data": {
      "text/plain": [
       "['PC', 'Swetha', 'JD', 'Kashyap']"
      ]
     },
     "execution_count": 2,
     "metadata": {},
     "output_type": "execute_result"
    }
   ],
   "source": [
    "members"
   ]
  },
  {
   "cell_type": "code",
   "execution_count": 3,
   "id": "5aff82c5",
   "metadata": {},
   "outputs": [
    {
     "name": "stdout",
     "output_type": "stream",
     "text": [
      "JD\n"
     ]
    }
   ],
   "source": [
    "print(members[2])"
   ]
  },
  {
   "cell_type": "code",
   "execution_count": 4,
   "id": "67d4291b",
   "metadata": {},
   "outputs": [
    {
     "data": {
      "text/plain": [
       "'JD'"
      ]
     },
     "execution_count": 4,
     "metadata": {},
     "output_type": "execute_result"
    }
   ],
   "source": [
    "members[-2]"
   ]
  },
  {
   "cell_type": "code",
   "execution_count": 5,
   "id": "fb9323aa",
   "metadata": {},
   "outputs": [
    {
     "data": {
      "text/plain": [
       "['PC', 'Swetha', 'srutha', 'Kashyap']"
      ]
     },
     "execution_count": 5,
     "metadata": {},
     "output_type": "execute_result"
    }
   ],
   "source": [
    "members[2] = 'srutha'\n",
    "members"
   ]
  },
  {
   "cell_type": "code",
   "execution_count": 6,
   "id": "e1481631",
   "metadata": {},
   "outputs": [
    {
     "data": {
      "text/plain": [
       "['PC', 'Swetha', 'Kashyap']"
      ]
     },
     "execution_count": 6,
     "metadata": {},
     "output_type": "execute_result"
    }
   ],
   "source": [
    "del members[2]\n",
    "members"
   ]
  },
  {
   "cell_type": "code",
   "execution_count": 8,
   "id": "27346fbf",
   "metadata": {},
   "outputs": [],
   "source": [
    "members.append(\"JD\")"
   ]
  },
  {
   "cell_type": "code",
   "execution_count": 9,
   "id": "9ac41e41",
   "metadata": {},
   "outputs": [
    {
     "data": {
      "text/plain": [
       "['PC', 'Swetha', 'Kashyap', 'JD']"
      ]
     },
     "execution_count": 9,
     "metadata": {},
     "output_type": "execute_result"
    }
   ],
   "source": [
    "members"
   ]
  },
  {
   "cell_type": "code",
   "execution_count": 11,
   "id": "d4f2ddf1",
   "metadata": {},
   "outputs": [
    {
     "data": {
      "text/plain": [
       "['PC', 'Swetha', 'Kashyap', 'JD', 'Srutha', 'Srutha']"
      ]
     },
     "execution_count": 11,
     "metadata": {},
     "output_type": "execute_result"
    }
   ],
   "source": [
    "members.extend(['Srutha'])\n",
    "members"
   ]
  },
  {
   "cell_type": "code",
   "execution_count": 13,
   "id": "d4a628ed",
   "metadata": {},
   "outputs": [
    {
     "name": "stdout",
     "output_type": "stream",
     "text": [
      "the first one is PC.\n"
     ]
    }
   ],
   "source": [
    "print('the first one is ' + members[0]+ '.')"
   ]
  },
  {
   "cell_type": "code",
   "execution_count": 14,
   "id": "583dda13",
   "metadata": {},
   "outputs": [
    {
     "data": {
      "text/plain": [
       "7"
      ]
     },
     "execution_count": 14,
     "metadata": {},
     "output_type": "execute_result"
    }
   ],
   "source": [
    "len('members')"
   ]
  },
  {
   "cell_type": "code",
   "execution_count": null,
   "id": "9b64041e",
   "metadata": {},
   "outputs": [],
   "source": []
  }
 ],
 "metadata": {
  "kernelspec": {
   "display_name": "Python 3 (ipykernel)",
   "language": "python",
   "name": "python3"
  },
  "language_info": {
   "codemirror_mode": {
    "name": "ipython",
    "version": 3
   },
   "file_extension": ".py",
   "mimetype": "text/x-python",
   "name": "python",
   "nbconvert_exporter": "python",
   "pygments_lexer": "ipython3",
   "version": "3.9.12"
  }
 },
 "nbformat": 4,
 "nbformat_minor": 5
}
