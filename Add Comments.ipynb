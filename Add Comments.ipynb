{
 "cells": [
  {
   "cell_type": "code",
   "execution_count": 2,
   "id": "a433002d",
   "metadata": {},
   "outputs": [
    {
     "name": "stdout",
     "output_type": "stream",
     "text": [
      "7 5\n"
     ]
    }
   ],
   "source": [
    "#just a comment and there is no code\n",
    "print(7,5)"
   ]
  },
  {
   "cell_type": "code",
   "execution_count": 3,
   "id": "87b96e75",
   "metadata": {},
   "outputs": [],
   "source": [
    "#comment marked with a hashtag, produced no output."
   ]
  },
  {
   "cell_type": "code",
   "execution_count": 4,
   "id": "ceec2d9c",
   "metadata": {},
   "outputs": [
    {
     "name": "stdout",
     "output_type": "stream",
     "text": [
      "300\n"
     ]
    }
   ],
   "source": [
    "#line 1 \n",
    "#line 2\n",
    "print(300)"
   ]
  },
  {
   "cell_type": "code",
   "execution_count": null,
   "id": "c49fcd22",
   "metadata": {},
   "outputs": [],
   "source": []
  }
 ],
 "metadata": {
  "kernelspec": {
   "display_name": "Python 3 (ipykernel)",
   "language": "python",
   "name": "python3"
  },
  "language_info": {
   "codemirror_mode": {
    "name": "ipython",
    "version": 3
   },
   "file_extension": ".py",
   "mimetype": "text/x-python",
   "name": "python",
   "nbconvert_exporter": "python",
   "pygments_lexer": "ipython3",
   "version": "3.9.12"
  }
 },
 "nbformat": 4,
 "nbformat_minor": 5
}
