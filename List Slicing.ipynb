{
 "cells": [
  {
   "cell_type": "code",
   "execution_count": 1,
   "id": "686227b3",
   "metadata": {},
   "outputs": [
    {
     "data": {
      "text/plain": [
       "['John', ' Leila', 'Maria', 'Dwayne', 'George', 'Catherine']"
      ]
     },
     "execution_count": 1,
     "metadata": {},
     "output_type": "execute_result"
    }
   ],
   "source": [
    "participants = ['John', ' Leila', 'Maria', 'Dwayne', 'George', 'Catherine']\n",
    "participants"
   ]
  },
  {
   "cell_type": "code",
   "execution_count": 2,
   "id": "b0963b10",
   "metadata": {},
   "outputs": [
    {
     "data": {
      "text/plain": [
       "[' Leila', 'Maria']"
      ]
     },
     "execution_count": 2,
     "metadata": {},
     "output_type": "execute_result"
    }
   ],
   "source": [
    "participants[1:3]"
   ]
  },
  {
   "cell_type": "code",
   "execution_count": 3,
   "id": "dc7cffdc",
   "metadata": {},
   "outputs": [
    {
     "data": {
      "text/plain": [
       "['John', ' Leila']"
      ]
     },
     "execution_count": 3,
     "metadata": {},
     "output_type": "execute_result"
    }
   ],
   "source": [
    "participants[:2]"
   ]
  },
  {
   "cell_type": "code",
   "execution_count": 5,
   "id": "7baae275",
   "metadata": {},
   "outputs": [
    {
     "data": {
      "text/plain": [
       "['George', 'Catherine']"
      ]
     },
     "execution_count": 5,
     "metadata": {},
     "output_type": "execute_result"
    }
   ],
   "source": [
    "participants[4:]"
   ]
  },
  {
   "cell_type": "code",
   "execution_count": 6,
   "id": "f9efd402",
   "metadata": {},
   "outputs": [
    {
     "data": {
      "text/plain": [
       "['George', 'Catherine']"
      ]
     },
     "execution_count": 6,
     "metadata": {},
     "output_type": "execute_result"
    }
   ],
   "source": [
    "participants[-2:]"
   ]
  },
  {
   "cell_type": "code",
   "execution_count": 7,
   "id": "384cbc74",
   "metadata": {},
   "outputs": [
    {
     "data": {
      "text/plain": [
       "2"
      ]
     },
     "execution_count": 7,
     "metadata": {},
     "output_type": "execute_result"
    }
   ],
   "source": [
    "participants.index(\"Maria\")"
   ]
  },
  {
   "cell_type": "code",
   "execution_count": 8,
   "id": "df66a513",
   "metadata": {},
   "outputs": [
    {
     "data": {
      "text/plain": [
       "['Joshua', 'Brittany']"
      ]
     },
     "execution_count": 8,
     "metadata": {},
     "output_type": "execute_result"
    }
   ],
   "source": [
    "Newcomers = ['Joshua', 'Brittany']\n",
    "Newcomers"
   ]
  },
  {
   "cell_type": "code",
   "execution_count": 9,
   "id": "c961ccf1",
   "metadata": {},
   "outputs": [
    {
     "data": {
      "text/plain": [
       "[['John', ' Leila', 'Maria', 'Dwayne', 'George', 'Catherine'],\n",
       " ['Joshua', 'Brittany']]"
      ]
     },
     "execution_count": 9,
     "metadata": {},
     "output_type": "execute_result"
    }
   ],
   "source": [
    "Bigger_list = [participants, Newcomers]\n",
    "Bigger_list"
   ]
  },
  {
   "cell_type": "code",
   "execution_count": 12,
   "id": "256aa882",
   "metadata": {},
   "outputs": [
    {
     "data": {
      "text/plain": [
       "[' Leila', 'Catherine', 'Dwayne', 'George', 'John', 'Maria']"
      ]
     },
     "execution_count": 12,
     "metadata": {},
     "output_type": "execute_result"
    }
   ],
   "source": [
    "participants.sort()\n",
    "participants"
   ]
  },
  {
   "cell_type": "code",
   "execution_count": 14,
   "id": "1690281c",
   "metadata": {},
   "outputs": [
    {
     "data": {
      "text/plain": [
       "['Maria', 'John', 'George', 'Dwayne', 'Catherine', ' Leila']"
      ]
     },
     "execution_count": 14,
     "metadata": {},
     "output_type": "execute_result"
    }
   ],
   "source": [
    "participants.sort(reverse = True)\n",
    "participants"
   ]
  },
  {
   "cell_type": "code",
   "execution_count": 15,
   "id": "1b6d8104",
   "metadata": {},
   "outputs": [
    {
     "data": {
      "text/plain": [
       "[12, 23, 45, 55, 85]"
      ]
     },
     "execution_count": 15,
     "metadata": {},
     "output_type": "execute_result"
    }
   ],
   "source": [
    "Numbers = [12,55,85,23,45]\n",
    "Numbers.sort()\n",
    "Numbers"
   ]
  },
  {
   "cell_type": "code",
   "execution_count": 17,
   "id": "3be4aba2",
   "metadata": {},
   "outputs": [
    {
     "data": {
      "text/plain": [
       "[85, 55, 45, 23, 12]"
      ]
     },
     "execution_count": 17,
     "metadata": {},
     "output_type": "execute_result"
    }
   ],
   "source": [
    "Numbers.sort(reverse = True)\n",
    "Numbers"
   ]
  },
  {
   "cell_type": "code",
   "execution_count": null,
   "id": "7dbd10fc",
   "metadata": {},
   "outputs": [],
   "source": []
  }
 ],
 "metadata": {
  "kernelspec": {
   "display_name": "Python 3 (ipykernel)",
   "language": "python",
   "name": "python3"
  },
  "language_info": {
   "codemirror_mode": {
    "name": "ipython",
    "version": 3
   },
   "file_extension": ".py",
   "mimetype": "text/x-python",
   "name": "python",
   "nbconvert_exporter": "python",
   "pygments_lexer": "ipython3",
   "version": "3.9.12"
  }
 },
 "nbformat": 4,
 "nbformat_minor": 5
}
